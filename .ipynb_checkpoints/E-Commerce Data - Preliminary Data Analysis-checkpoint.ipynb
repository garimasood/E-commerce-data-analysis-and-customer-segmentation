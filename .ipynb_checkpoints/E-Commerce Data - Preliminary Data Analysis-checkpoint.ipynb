{
 "cells": [
  {
   "cell_type": "markdown",
   "metadata": {},
   "source": [
    "---\n",
    "Title: **E-Commerce Data - Preliminary Analysis**\n",
    "\n",
    "Author: \"GarimaSood\"\n",
    "\n",
    "Date: \"February 5, 2018\"\n"
   ]
  },
  {
   "cell_type": "code",
   "execution_count": 4,
   "metadata": {},
   "outputs": [
    {
     "name": "stderr",
     "output_type": "stream",
     "text": [
      "Installing package into 'C:/Users/garim/OneDrive/Documents/R/win-library/3.4'\n",
      "(as 'lib' is unspecified)\n",
      "Warning message:\n",
      "\"package 'tm' is in use and will not be installed\"Installing package into 'C:/Users/garim/OneDrive/Documents/R/win-library/3.4'\n",
      "(as 'lib' is unspecified)\n",
      "also installing the dependency 'crosstalk'\n",
      "\n"
     ]
    },
    {
     "name": "stdout",
     "output_type": "stream",
     "text": [
      "package 'crosstalk' successfully unpacked and MD5 sums checked\n",
      "package 'plotly' successfully unpacked and MD5 sums checked\n",
      "\n",
      "The downloaded binary packages are in\n",
      "\tC:\\Users\\garim\\AppData\\Local\\Temp\\RtmpyqBeAt\\downloaded_packages\n"
     ]
    }
   ],
   "source": [
    "install.packages('tm', repos='http://cran.us.r-project.org')\n",
    "install.packages('plotly', repos='http://cran.us.r-project.org')"
   ]
  },
  {
   "cell_type": "code",
   "execution_count": 5,
   "metadata": {
    "scrolled": true
   },
   "outputs": [
    {
     "name": "stderr",
     "output_type": "stream",
     "text": [
      "Warning message:\n",
      "\"package 'plotly' was built under R version 3.4.4\"\n",
      "Attaching package: 'plotly'\n",
      "\n",
      "The following object is masked from 'package:ggplot2':\n",
      "\n",
      "    last_plot\n",
      "\n",
      "The following object is masked from 'package:stats':\n",
      "\n",
      "    filter\n",
      "\n",
      "The following object is masked from 'package:graphics':\n",
      "\n",
      "    layout\n",
      "\n"
     ]
    }
   ],
   "source": [
    "library(ggplot2)\n",
    "library(lubridate)\n",
    "library(stringr)\n",
    "library(tm)\n",
    "library(plotly)\n",
    "\n",
    "dataPath <- \"C:/Users/garim/Documents/New Folder\"\n",
    "data <- read.csv(paste(dataPath,\"data_science_analytics_2018_data.csv\", sep = \"/\"))\n"
   ]
  },
  {
   "cell_type": "markdown",
   "metadata": {},
   "source": [
    "Preliminary data check"
   ]
  },
  {
   "cell_type": "code",
   "execution_count": 6,
   "metadata": {},
   "outputs": [
    {
     "name": "stdout",
     "output_type": "stream",
     "text": [
      "'data.frame':\t541909 obs. of  8 variables:\n",
      " $ InvoiceNo  : Factor w/ 25900 levels \"536365\",\"536366\",..: 25900 25900 25899 25898 25897 25897 25896 25895 25894 25894 ...\n",
      " $ StockCode  : Factor w/ 4070 levels \"10002\",\"10080\",..: 310 3385 484 4067 1129 2039 2507 1983 520 1056 ...\n",
      " $ Description: Factor w/ 4224 levels \"\",\" 4 PURPLE FLOCK DINNER CANDLES\",..: 85 1712 3845 2151 3844 4220 2510 2869 3527 578 ...\n",
      " $ Quantity   : int  -5 -1 -5 -1 -12 -11 -80995 -4 -10 -12 ...\n",
      " $ InvoiceDate: Factor w/ 23260 levels \"1/10/2011 10:04\",..: 9379 9379 9378 9369 9405 9405 9400 9201 9200 9200 ...\n",
      " $ UnitPrice  : num  1.25 1.25 10.95 224.69 1.95 ...\n",
      " $ CustomerID : int  17315 17315 15311 15498 14397 14397 16446 17924 13599 13599 ...\n",
      " $ Country    : Factor w/ 38 levels \"Australia\",\"Austria\",..: 36 36 36 36 36 36 36 36 36 36 ...\n"
     ]
    }
   ],
   "source": [
    "str(data)"
   ]
  },
  {
   "cell_type": "code",
   "execution_count": 7,
   "metadata": {},
   "outputs": [
    {
     "data": {
      "text/plain": [
       "   InvoiceNo        StockCode                                  Description    \n",
       " 573585 :  1114   85123A :  2313   WHITE HANGING HEART T-LIGHT HOLDER:  2369  \n",
       " 581219 :   749   22423  :  2203   REGENCY CAKESTAND 3 TIER          :  2200  \n",
       " 581492 :   731   85099B :  2159   JUMBO BAG RED RETROSPOT           :  2159  \n",
       " 580729 :   721   47566  :  1727   PARTY BUNTING                     :  1727  \n",
       " 558475 :   705   20725  :  1639   LUNCH BAG RED RETROSPOT           :  1638  \n",
       " 579777 :   687   84879  :  1502   ASSORTED COLOUR BIRD ORNAMENT     :  1501  \n",
       " (Other):537202   (Other):530366   (Other)                           :530315  \n",
       "    Quantity                   InvoiceDate       UnitPrice        \n",
       " Min.   :-80995.00   10/31/2011 14:41:  1114   Min.   :-11062.06  \n",
       " 1st Qu.:     1.00   12/8/2011 9:28  :   749   1st Qu.:     1.25  \n",
       " Median :     3.00   12/9/2011 10:03 :   731   Median :     2.08  \n",
       " Mean   :     9.55   12/5/2011 17:24 :   721   Mean   :     4.61  \n",
       " 3rd Qu.:    10.00   6/29/2011 15:58 :   705   3rd Qu.:     4.13  \n",
       " Max.   : 80995.00   11/30/2011 15:13:   687   Max.   : 38970.00  \n",
       "                     (Other)         :537202                      \n",
       "   CustomerID               Country      \n",
       " Min.   :12346    United Kingdom:495478  \n",
       " 1st Qu.:13953    Germany       :  9495  \n",
       " Median :15152    France        :  8557  \n",
       " Mean   :15288    EIRE          :  8196  \n",
       " 3rd Qu.:16791    Spain         :  2533  \n",
       " Max.   :18287    Netherlands   :  2371  \n",
       " NA's   :135080   (Other)       : 15279  "
      ]
     },
     "metadata": {},
     "output_type": "display_data"
    }
   ],
   "source": [
    "summary(data)"
   ]
  },
  {
   "cell_type": "code",
   "execution_count": 53,
   "metadata": {},
   "outputs": [
    {
     "data": {
      "text/html": [
       "4065"
      ],
      "text/latex": [
       "4065"
      ],
      "text/markdown": [
       "4065"
      ],
      "text/plain": [
       "[1] 4065"
      ]
     },
     "metadata": {},
     "output_type": "display_data"
    },
    {
     "data": {
      "text/html": [
       "3951"
      ],
      "text/latex": [
       "3951"
      ],
      "text/markdown": [
       "3951"
      ],
      "text/plain": [
       "[1] 3951"
      ]
     },
     "metadata": {},
     "output_type": "display_data"
    },
    {
     "data": {
      "text/html": [
       "23494"
      ],
      "text/latex": [
       "23494"
      ],
      "text/markdown": [
       "23494"
      ],
      "text/plain": [
       "[1] 23494"
      ]
     },
     "metadata": {},
     "output_type": "display_data"
    }
   ],
   "source": [
    "length(unique(data$StockCode[data$Country==\"United Kingdom\"]))\n",
    "length(unique(data$CustomerID[data$Country==\"United Kingdom\"]))\n",
    "length(unique(data$InvoiceNo[data$Country==\"United Kingdom\"]))"
   ]
  },
  {
   "cell_type": "code",
   "execution_count": 52,
   "metadata": {},
   "outputs": [
    {
     "data": {
      "text/html": [
       "<table>\n",
       "<thead><tr><th></th><th scope=col>InvoiceNo</th><th scope=col>StockCode</th><th scope=col>Description</th><th scope=col>Quantity</th><th scope=col>InvoiceDate</th><th scope=col>UnitPrice</th><th scope=col>CustomerID</th><th scope=col>Country</th><th scope=col>cancel</th><th scope=col>post</th><th scope=col>sample</th><th scope=col>charges</th><th scope=col>cust_trans</th><th scope=col>sale</th></tr></thead>\n",
       "<tbody>\n",
       "\t<tr><th scope=row>7</th><td>C581484                    </td><td>23843                      </td><td>PAPER CRAFT , LITTLE BIRDIE</td><td>-80995                     </td><td>12/9/2011 9:27             </td><td>2.08                       </td><td>16446                      </td><td>United Kingdom             </td><td>1                          </td><td>0                          </td><td>0                          </td><td>0                          </td><td>1                          </td><td>-168469.6                  </td></tr>\n",
       "\t<tr><th scope=row>10772</th><td>581483                     </td><td>23843                      </td><td>PAPER CRAFT , LITTLE BIRDIE</td><td> 80995                     </td><td>12/9/2011 9:15             </td><td>2.08                       </td><td>16446                      </td><td>United Kingdom             </td><td>0                          </td><td>0                          </td><td>0                          </td><td>0                          </td><td>1                          </td><td> 168469.6                  </td></tr>\n",
       "</tbody>\n",
       "</table>\n"
      ],
      "text/latex": [
       "\\begin{tabular}{r|llllllllllllll}\n",
       "  & InvoiceNo & StockCode & Description & Quantity & InvoiceDate & UnitPrice & CustomerID & Country & cancel & post & sample & charges & cust\\_trans & sale\\\\\n",
       "\\hline\n",
       "\t7 & C581484                     & 23843                       & PAPER CRAFT , LITTLE BIRDIE & -80995                      & 12/9/2011 9:27              & 2.08                        & 16446                       & United Kingdom              & 1                           & 0                           & 0                           & 0                           & 1                           & -168469.6                  \\\\\n",
       "\t10772 & 581483                      & 23843                       & PAPER CRAFT , LITTLE BIRDIE &  80995                      & 12/9/2011 9:15              & 2.08                        & 16446                       & United Kingdom              & 0                           & 0                           & 0                           & 0                           & 1                           &  168469.6                  \\\\\n",
       "\\end{tabular}\n"
      ],
      "text/markdown": [
       "\n",
       "| <!--/--> | InvoiceNo | StockCode | Description | Quantity | InvoiceDate | UnitPrice | CustomerID | Country | cancel | post | sample | charges | cust_trans | sale | \n",
       "|---|---|\n",
       "| 7 | C581484                     | 23843                       | PAPER CRAFT , LITTLE BIRDIE | -80995                      | 12/9/2011 9:27              | 2.08                        | 16446                       | United Kingdom              | 1                           | 0                           | 0                           | 0                           | 1                           | -168469.6                   | \n",
       "| 10772 | 581483                      | 23843                       | PAPER CRAFT , LITTLE BIRDIE |  80995                      | 12/9/2011 9:15              | 2.08                        | 16446                       | United Kingdom              | 0                           | 0                           | 0                           | 0                           | 1                           |  168469.6                   | \n",
       "\n",
       "\n"
      ],
      "text/plain": [
       "      InvoiceNo StockCode Description                 Quantity InvoiceDate   \n",
       "7     C581484   23843     PAPER CRAFT , LITTLE BIRDIE -80995   12/9/2011 9:27\n",
       "10772 581483    23843     PAPER CRAFT , LITTLE BIRDIE  80995   12/9/2011 9:15\n",
       "      UnitPrice CustomerID Country        cancel post sample charges cust_trans\n",
       "7     2.08      16446      United Kingdom 1      0    0      0       1         \n",
       "10772 2.08      16446      United Kingdom 0      0    0      0       1         \n",
       "      sale     \n",
       "7     -168469.6\n",
       "10772  168469.6"
      ]
     },
     "metadata": {},
     "output_type": "display_data"
    },
    {
     "data": {
      "text/html": [
       "<table>\n",
       "<thead><tr><th></th><th scope=col>InvoiceNo</th><th scope=col>StockCode</th><th scope=col>Description</th><th scope=col>Quantity</th><th scope=col>InvoiceDate</th><th scope=col>UnitPrice</th><th scope=col>CustomerID</th><th scope=col>Country</th><th scope=col>cancel</th><th scope=col>post</th><th scope=col>sample</th><th scope=col>charges</th><th scope=col>cust_trans</th><th scope=col>sale</th></tr></thead>\n",
       "<tbody>\n",
       "\t<tr><th scope=row>5274</th><td>C556445        </td><td>M              </td><td>Manual         </td><td>-1             </td><td>6/10/2011 15:31</td><td> 38970.00      </td><td>15098          </td><td>United Kingdom </td><td>1              </td><td>0              </td><td>0              </td><td>0              </td><td>1              </td><td>-38970.00      </td></tr>\n",
       "\t<tr><th scope=row>9289</th><td>A563187        </td><td>B              </td><td>Adjust bad debt</td><td> 1             </td><td>8/12/2011 14:52</td><td>-11062.06      </td><td>   NA          </td><td>United Kingdom </td><td>0              </td><td>0              </td><td>0              </td><td>0              </td><td>1              </td><td>-11062.06      </td></tr>\n",
       "\t<tr><th scope=row>9290</th><td>A563186        </td><td>B              </td><td>Adjust bad debt</td><td> 1             </td><td>8/12/2011 14:51</td><td>-11062.06      </td><td>   NA          </td><td>United Kingdom </td><td>0              </td><td>0              </td><td>0              </td><td>0              </td><td>1              </td><td>-11062.06      </td></tr>\n",
       "</tbody>\n",
       "</table>\n"
      ],
      "text/latex": [
       "\\begin{tabular}{r|llllllllllllll}\n",
       "  & InvoiceNo & StockCode & Description & Quantity & InvoiceDate & UnitPrice & CustomerID & Country & cancel & post & sample & charges & cust\\_trans & sale\\\\\n",
       "\\hline\n",
       "\t5274 & C556445         & M               & Manual          & -1              & 6/10/2011 15:31 &  38970.00       & 15098           & United Kingdom  & 1               & 0               & 0               & 0               & 1               & -38970.00      \\\\\n",
       "\t9289 & A563187         & B               & Adjust bad debt &  1              & 8/12/2011 14:52 & -11062.06       &    NA           & United Kingdom  & 0               & 0               & 0               & 0               & 1               & -11062.06      \\\\\n",
       "\t9290 & A563186         & B               & Adjust bad debt &  1              & 8/12/2011 14:51 & -11062.06       &    NA           & United Kingdom  & 0               & 0               & 0               & 0               & 1               & -11062.06      \\\\\n",
       "\\end{tabular}\n"
      ],
      "text/markdown": [
       "\n",
       "| <!--/--> | InvoiceNo | StockCode | Description | Quantity | InvoiceDate | UnitPrice | CustomerID | Country | cancel | post | sample | charges | cust_trans | sale | \n",
       "|---|---|---|\n",
       "| 5274 | C556445         | M               | Manual          | -1              | 6/10/2011 15:31 |  38970.00       | 15098           | United Kingdom  | 1               | 0               | 0               | 0               | 1               | -38970.00       | \n",
       "| 9289 | A563187         | B               | Adjust bad debt |  1              | 8/12/2011 14:52 | -11062.06       |    NA           | United Kingdom  | 0               | 0               | 0               | 0               | 1               | -11062.06       | \n",
       "| 9290 | A563186         | B               | Adjust bad debt |  1              | 8/12/2011 14:51 | -11062.06       |    NA           | United Kingdom  | 0               | 0               | 0               | 0               | 1               | -11062.06       | \n",
       "\n",
       "\n"
      ],
      "text/plain": [
       "     InvoiceNo StockCode Description     Quantity InvoiceDate     UnitPrice\n",
       "5274 C556445   M         Manual          -1       6/10/2011 15:31  38970.00\n",
       "9289 A563187   B         Adjust bad debt  1       8/12/2011 14:52 -11062.06\n",
       "9290 A563186   B         Adjust bad debt  1       8/12/2011 14:51 -11062.06\n",
       "     CustomerID Country        cancel post sample charges cust_trans sale     \n",
       "5274 15098      United Kingdom 1      0    0      0       1          -38970.00\n",
       "9289    NA      United Kingdom 0      0    0      0       1          -11062.06\n",
       "9290    NA      United Kingdom 0      0    0      0       1          -11062.06"
      ]
     },
     "metadata": {},
     "output_type": "display_data"
    }
   ],
   "source": [
    "data[data$Quantity > 80000 | data$Quantity< -80000,]\n",
    "data[data$UnitPrice > 35000 | data$UnitPrice< 0,]"
   ]
  },
  {
   "cell_type": "code",
   "execution_count": 10,
   "metadata": {},
   "outputs": [
    {
     "data": {
      "text/html": [
       "<table>\n",
       "<tbody>\n",
       "\t<tr><th scope=row>Var1</th><td>Australia           </td><td>Austria             </td><td>Bahrain             </td><td>Belgium             </td><td>Brazil              </td><td>Canada              </td><td>Channel Islands     </td><td>Cyprus              </td><td>Czech Republic      </td><td>Denmark             </td><td>...                 </td><td>RSA                 </td><td>Saudi Arabia        </td><td>Singapore           </td><td>Spain               </td><td>Sweden              </td><td>Switzerland         </td><td>United Arab Emirates</td><td>United Kingdom      </td><td>Unspecified         </td><td>USA                 </td></tr>\n",
       "\t<tr><th scope=row>Freq</th><td>  1259              </td><td>   401              </td><td>    19              </td><td>  2069              </td><td>    32              </td><td>   151              </td><td>   758              </td><td>   622              </td><td>    30              </td><td>   389              </td><td>...                 </td><td>    58              </td><td>    10              </td><td>   229              </td><td>  2533              </td><td>   462              </td><td>  2002              </td><td>    68              </td><td>495478              </td><td>   446              </td><td>   291              </td></tr>\n",
       "</tbody>\n",
       "</table>\n"
      ],
      "text/latex": [
       "\\begin{tabular}{r|llllllllllllllllllllllllllllllllllllll}\n",
       "\tVar1 & Australia            & Austria              & Bahrain              & Belgium              & Brazil               & Canada               & Channel Islands      & Cyprus               & Czech Republic       & Denmark              & ...                  & RSA                  & Saudi Arabia         & Singapore            & Spain                & Sweden               & Switzerland          & United Arab Emirates & United Kingdom       & Unspecified          & USA                 \\\\\n",
       "\tFreq &   1259               &    401               &     19               &   2069               &     32               &    151               &    758               &    622               &     30               &    389               & ...                  &     58               &     10               &    229               &   2533               &    462               &   2002               &     68               & 495478               &    446               &    291              \\\\\n",
       "\\end{tabular}\n"
      ],
      "text/markdown": [
       "\n",
       "| Var1 | Australia            | Austria              | Bahrain              | Belgium              | Brazil               | Canada               | Channel Islands      | Cyprus               | Czech Republic       | Denmark              | ...                  | RSA                  | Saudi Arabia         | Singapore            | Spain                | Sweden               | Switzerland          | United Arab Emirates | United Kingdom       | Unspecified          | USA                  | \n",
       "| Freq |   1259               |    401               |     19               |   2069               |     32               |    151               |    758               |    622               |     30               |    389               | ...                  |     58               |     10               |    229               |   2533               |    462               |   2002               |     68               | 495478               |    446               |    291               | \n",
       "\n",
       "\n"
      ],
      "text/plain": [
       "     [,1]      [,2]    [,3]    [,4]    [,5]   [,6]   [,7]            [,8]  \n",
       "Var1 Australia Austria Bahrain Belgium Brazil Canada Channel Islands Cyprus\n",
       "Freq   1259       401      19    2069      32    151    758             622\n",
       "     [,9]           [,10]   [,11] [,12]  [,13]        [,14]     [,15]  [,16] \n",
       "Var1 Czech Republic Denmark ...   RSA    Saudi Arabia Singapore Spain  Sweden\n",
       "Freq     30            389  ...       58     10          229      2533    462\n",
       "     [,17]       [,18]                [,19]          [,20]       [,21] \n",
       "Var1 Switzerland United Arab Emirates United Kingdom Unspecified USA   \n",
       "Freq   2002          68               495478            446         291"
      ]
     },
     "metadata": {},
     "output_type": "display_data"
    }
   ],
   "source": [
    "countrysplit <- as.data.frame(table(data$Country))\n",
    "t(countrysplit)"
   ]
  },
  {
   "cell_type": "markdown",
   "metadata": {},
   "source": [
    "Cleaning data for noise i.e. negative quantity orders/ adjustments, zero unit price orders and outliers in terms of quantity & price"
   ]
  },
  {
   "cell_type": "code",
   "execution_count": 12,
   "metadata": {},
   "outputs": [],
   "source": [
    "data$cancel <- ifelse(grepl(\"C\", data$InvoiceNo), 1,0)\n",
    "data$post <- ifelse(data$StockCode ==\"POST\"|data$StockCode==\"DOT\",1,0)\n",
    "data$sample <- ifelse(data$StockCode ==\"S\", 1,0)\n",
    "data$charges <- ifelse(data$StockCode==\"BANK CHARGES\",1,0)\n",
    "data$cust_trans <- ifelse(data$sample+data$charges+data$post==0,1,0)\n",
    "\n",
    "data$sale <- data$Quantity*data$UnitPrice"
   ]
  },
  {
   "cell_type": "markdown",
   "metadata": {},
   "source": [
    "Percentage of money spent on shipping"
   ]
  },
  {
   "cell_type": "code",
   "execution_count": 16,
   "metadata": {},
   "outputs": [
    {
     "data": {
      "text/html": [
       "2.87"
      ],
      "text/latex": [
       "2.87"
      ],
      "text/markdown": [
       "2.87"
      ],
      "text/plain": [
       "[1] 2.87"
      ]
     },
     "metadata": {},
     "output_type": "display_data"
    }
   ],
   "source": [
    "round(sum(data$sale[data$post==1])/sum(data$sale[data$cust_trans==1])*100,2)"
   ]
  },
  {
   "cell_type": "markdown",
   "metadata": {},
   "source": [
    "Outliering based on 3 Standard deviations on unit price and quantity fields:"
   ]
  },
  {
   "cell_type": "code",
   "execution_count": 17,
   "metadata": {},
   "outputs": [],
   "source": [
    "sd_quantity <- sqrt(var(data$Quantity))\n",
    "mean_quantity <- mean(data$Quantity)\n",
    "UL_quantity <- mean_quantity+3*sd_quantity\n",
    "LL_quantity <- mean_quantity-3*sd_quantity\n",
    "\n",
    "sd_UP <- sqrt(var(data$UnitPrice))\n",
    "mean_UP <- mean(data$UnitPrice)\n",
    "UL_UP <- mean_UP+3*sd_UP\n",
    "LL_UP <- mean_UP-3*sd_UP\n",
    "\n",
    "data_filt <- data[(data$Quantity>LL_quantity),]\n",
    "data_filt <- data_filt[(data_filt$Quantity<UL_quantity),]\n",
    "data_filt <- data_filt[(data_filt$UnitPrice<UL_UP),]\n",
    "data_filt <- data_filt[(data_filt$UnitPrice>LL_UP),]\n",
    "data_filt$Country1 <- ifelse(data_filt$Country==\"United Kingdom\", \"UK\", as.character(data_filt$Country))"
   ]
  },
  {
   "cell_type": "code",
   "execution_count": 18,
   "metadata": {},
   "outputs": [
    {
     "data": {
      "text/html": [
       "0"
      ],
      "text/latex": [
       "0"
      ],
      "text/markdown": [
       "0"
      ],
      "text/plain": [
       "[1] 0"
      ]
     },
     "metadata": {},
     "output_type": "display_data"
    }
   ],
   "source": [
    "#min(data_filt$UnitPrice)\n",
    "data_filt$sale = data_filt$Quantity*data_filt$UnitPrice\n",
    "total_sale = sum(data_filt$sale)"
   ]
  },
  {
   "cell_type": "markdown",
   "metadata": {},
   "source": [
    "Number of NAs in data"
   ]
  },
  {
   "cell_type": "code",
   "execution_count": 20,
   "metadata": {},
   "outputs": [
    {
     "data": {
      "text/html": [
       "<dl>\n",
       "\t<dt>$InvoiceNo</dt>\n",
       "\t\t<dd>0</dd>\n",
       "\t<dt>$StockCode</dt>\n",
       "\t\t<dd>0</dd>\n",
       "\t<dt>$Description</dt>\n",
       "\t\t<dd>0</dd>\n",
       "\t<dt>$Quantity</dt>\n",
       "\t\t<dd>0</dd>\n",
       "\t<dt>$InvoiceDate</dt>\n",
       "\t\t<dd>0</dd>\n",
       "\t<dt>$UnitPrice</dt>\n",
       "\t\t<dd>0</dd>\n",
       "\t<dt>$CustomerID</dt>\n",
       "\t\t<dd>134743</dd>\n",
       "\t<dt>$Country</dt>\n",
       "\t\t<dd>0</dd>\n",
       "\t<dt>$cancel</dt>\n",
       "\t\t<dd>0</dd>\n",
       "\t<dt>$post</dt>\n",
       "\t\t<dd>0</dd>\n",
       "\t<dt>$sample</dt>\n",
       "\t\t<dd>0</dd>\n",
       "\t<dt>$charges</dt>\n",
       "\t\t<dd>0</dd>\n",
       "\t<dt>$cust_trans</dt>\n",
       "\t\t<dd>0</dd>\n",
       "\t<dt>$sale</dt>\n",
       "\t\t<dd>0</dd>\n",
       "\t<dt>$Country1</dt>\n",
       "\t\t<dd>0</dd>\n",
       "</dl>\n"
      ],
      "text/latex": [
       "\\begin{description}\n",
       "\\item[\\$InvoiceNo] 0\n",
       "\\item[\\$StockCode] 0\n",
       "\\item[\\$Description] 0\n",
       "\\item[\\$Quantity] 0\n",
       "\\item[\\$InvoiceDate] 0\n",
       "\\item[\\$UnitPrice] 0\n",
       "\\item[\\$CustomerID] 134743\n",
       "\\item[\\$Country] 0\n",
       "\\item[\\$cancel] 0\n",
       "\\item[\\$post] 0\n",
       "\\item[\\$sample] 0\n",
       "\\item[\\$charges] 0\n",
       "\\item[\\$cust\\_trans] 0\n",
       "\\item[\\$sale] 0\n",
       "\\item[\\$Country1] 0\n",
       "\\end{description}\n"
      ],
      "text/markdown": [
       "$InvoiceNo\n",
       ":   0\n",
       "$StockCode\n",
       ":   0\n",
       "$Description\n",
       ":   0\n",
       "$Quantity\n",
       ":   0\n",
       "$InvoiceDate\n",
       ":   0\n",
       "$UnitPrice\n",
       ":   0\n",
       "$CustomerID\n",
       ":   134743\n",
       "$Country\n",
       ":   0\n",
       "$cancel\n",
       ":   0\n",
       "$post\n",
       ":   0\n",
       "$sample\n",
       ":   0\n",
       "$charges\n",
       ":   0\n",
       "$cust_trans\n",
       ":   0\n",
       "$sale\n",
       ":   0\n",
       "$Country1\n",
       ":   0\n",
       "\n",
       "\n"
      ],
      "text/plain": [
       "$InvoiceNo\n",
       "[1] 0\n",
       "\n",
       "$StockCode\n",
       "[1] 0\n",
       "\n",
       "$Description\n",
       "[1] 0\n",
       "\n",
       "$Quantity\n",
       "[1] 0\n",
       "\n",
       "$InvoiceDate\n",
       "[1] 0\n",
       "\n",
       "$UnitPrice\n",
       "[1] 0\n",
       "\n",
       "$CustomerID\n",
       "[1] 134743\n",
       "\n",
       "$Country\n",
       "[1] 0\n",
       "\n",
       "$cancel\n",
       "[1] 0\n",
       "\n",
       "$post\n",
       "[1] 0\n",
       "\n",
       "$sample\n",
       "[1] 0\n",
       "\n",
       "$charges\n",
       "[1] 0\n",
       "\n",
       "$cust_trans\n",
       "[1] 0\n",
       "\n",
       "$sale\n",
       "[1] 0\n",
       "\n",
       "$Country1\n",
       "[1] 0\n"
      ]
     },
     "metadata": {},
     "output_type": "display_data"
    }
   ],
   "source": [
    "lapply(data_filt, function(x) sum(is.na(x)))"
   ]
  },
  {
   "cell_type": "markdown",
   "metadata": {},
   "source": [
    "Extract month from datetime"
   ]
  },
  {
   "cell_type": "code",
   "execution_count": 21,
   "metadata": {},
   "outputs": [],
   "source": [
    "data_filt$date = paste(substr(months(as.Date(data_filt$InvoiceDate, format = \"%m/%d/%Y\")),1,3),substr(as.Date(data_filt$InvoiceDate, format = \"%m/%d/%Y\"),3,4),sep = \"-\")"
   ]
  },
  {
   "cell_type": "markdown",
   "metadata": {},
   "source": [
    "### Net Transaction data analysis"
   ]
  },
  {
   "cell_type": "markdown",
   "metadata": {},
   "source": [
    "**a) Transactions by month**"
   ]
  },
  {
   "cell_type": "code",
   "execution_count": 22,
   "metadata": {},
   "outputs": [],
   "source": [
    "trans <- aggregate(data_filt$sale, by = list(data_filt$date),sum)\n",
    "trans$x <- trans$x/1000000\n",
    "size_date <- data.frame(table(data_filt$date))\n",
    "trans_date <- merge(trans,size_date, by.x =\"Group.1\", by.y= \"Var1\")\n",
    "\n",
    "order <- c(\"Dec-10\",\"Jan-11\", \"Feb-11\", \"Mar-11\", \"Apr-11\", \"May-11\", \"Jun-11\", \"Jul-11\", \"Aug-11\", \"Sep-11\", \"Oct-11\", \"Nov-11\", \"Dec-11\" )"
   ]
  },
  {
   "cell_type": "code",
   "execution_count": 24,
   "metadata": {
    "scrolled": true
   },
   "outputs": [
    {
     "data": {},
     "metadata": {},
     "output_type": "display_data"
    },
    {
     "data": {
      "image/png": "[encoded data removed]",
      "text/plain": [
       "plot without title"
      ]
     },
     "metadata": {},
     "output_type": "display_data"
    }
   ],
   "source": [
    "ggplot(data = trans_date) + \n",
    "  geom_col(mapping = aes(x = Group.1, y = x), width=0.5, fill = \"navy blue\")+  ylim(0,1.5) + \n",
    "  labs(x=\"Month\", y=\"Net transaction ($ Million)\", title = \"Net Transaction per Month\")+\n",
    "  scale_x_discrete(limits=order)"
   ]
  },
  {
   "cell_type": "markdown",
   "metadata": {},
   "source": [
    "**b) Transactions by country (Top 10)**"
   ]
  },
  {
   "cell_type": "code",
   "execution_count": 25,
   "metadata": {},
   "outputs": [
    {
     "data": {},
     "metadata": {},
     "output_type": "display_data"
    },
    {
     "data": {
      "image/png": "[encoded data removed]",
      "text/plain": [
       "plot without title"
      ]
     },
     "metadata": {},
     "output_type": "display_data"
    }
   ],
   "source": [
    "trans_country <- aggregate(data_filt$sale, by = list(data_filt$Country1),sum)\n",
    "trans_country$x = trans_country$x/1000000\n",
    "size_country <- data.frame(table(data_filt$Country1))\n",
    "trans_country <- merge(trans_country,size_country, by.x =\"Group.1\", by.y= \"Var1\")\n",
    "trans_country <- trans_country[order(-trans_country$x),]\n",
    "\n",
    "\n",
    "ggplot(data = trans_country[1:10,]) + \n",
    "  geom_col(mapping = aes(x = Group.1, y = x), fill = \"dark green\", width = 0.5)+   \n",
    "  labs(x=\"Country\", y=\"Net transaction ($ Million)\", title = \"Net Transaction by Country\") +\n",
    "  scale_x_discrete(limits=trans_country$Group.1[1:10])"
   ]
  },
  {
   "cell_type": "markdown",
   "metadata": {},
   "source": [
    "### Sales data analysis (exclude postage, bank charges and free samples)"
   ]
  },
  {
   "cell_type": "markdown",
   "metadata": {},
   "source": [
    "**a) Sales by month**"
   ]
  },
  {
   "cell_type": "code",
   "execution_count": 26,
   "metadata": {},
   "outputs": [
    {
     "data": {},
     "metadata": {},
     "output_type": "display_data"
    },
    {
     "data": {
      "image/png": "[encoded data removed]",
      "text/plain": [
       "plot without title"
      ]
     },
     "metadata": {},
     "output_type": "display_data"
    }
   ],
   "source": [
    "sales_data <- data_filt[data_filt$cust_trans==1,]\n",
    "\n",
    "sales <- aggregate(sales_data$sale, by = list(sales_data$date),sum)\n",
    "sales$x <- sales$x/1000000\n",
    "size_date <- data.frame(table(sales_data$date))\n",
    "sales_date <- merge(sales,size_date, by.x =\"Group.1\", by.y= \"Var1\")\n",
    "\n",
    "\n",
    "ggplot(data = sales_date) + \n",
    "  geom_col(mapping = aes(x = Group.1, y = x), width=0.5, fill = \"blue\")+  ylim(0,1.5) + \n",
    "  labs(x=\"Month\", y=\"Net product sale ($ Million)\", title = \"Net Product Sale per Month\")+\n",
    "  scale_x_discrete(limits=order)"
   ]
  },
  {
   "cell_type": "markdown",
   "metadata": {},
   "source": [
    "**b) Sales by Country**"
   ]
  },
  {
   "cell_type": "code",
   "execution_count": 27,
   "metadata": {},
   "outputs": [
    {
     "data": {},
     "metadata": {},
     "output_type": "display_data"
    },
    {
     "data": {
      "image/png": "[encoded data removed]",
      "text/plain": [
       "plot without title"
      ]
     },
     "metadata": {},
     "output_type": "display_data"
    }
   ],
   "source": [
    "sales_country <- aggregate(sales_data$sale, by = list(sales_data$Country1),sum)\n",
    "sales_country$x <- sales_country$x/1000000\n",
    "size_country <- data.frame(table(sales_data$Country1))\n",
    "sales_country <- merge(sales_country,size_country, by.x =\"Group.1\", by.y= \"Var1\")\n",
    "sales_country <- sales_country[order(-sales_country$x),]\n",
    "\n",
    "\n",
    "ggplot(data = sales_country[1:10,]) + \n",
    "  geom_col(mapping = aes(x = Group.1, y = x), fill = \"dark green\", width = 0.5)+ \n",
    "  labs(x=\"Country\", y=\"Net product sale ($ Million)\", title = \"Net Product Sale by Country\")+\n",
    "  scale_x_discrete(limits=sales_country$Group.1[1:10])"
   ]
  },
  {
   "cell_type": "markdown",
   "metadata": {},
   "source": [
    "### Cancellation data analysis"
   ]
  },
  {
   "cell_type": "code",
   "execution_count": 28,
   "metadata": {},
   "outputs": [],
   "source": [
    "c_data_filt <- data_filt[(data_filt$cancel*data_filt$cust_trans)==1,]\n",
    "\n",
    "cancellation <- aggregate(c_data_filt$sale*-1, by = list(c_data_filt$date),sum)\n",
    "cancellation$Var1 = cancellation$Group.1\n",
    "size_date <- data.frame(table(c_data_filt$date))\n",
    "\n",
    "overall_cancel <- merge(cancellation[,c(2:3)],size_date, by.x =\"Var1\", by.y= \"Var1\")"
   ]
  },
  {
   "cell_type": "markdown",
   "metadata": {},
   "source": [
    "**a) Cancellations by month**"
   ]
  },
  {
   "cell_type": "code",
   "execution_count": 29,
   "metadata": {},
   "outputs": [
    {
     "data": {},
     "metadata": {},
     "output_type": "display_data"
    },
    {
     "data": {
      "image/png": "[encoded data removed]",
      "text/plain": [
       "plot without title"
      ]
     },
     "metadata": {},
     "output_type": "display_data"
    }
   ],
   "source": [
    "ggplot(data = overall_cancel) + \n",
    "  geom_point (mapping = aes(x = Var1, y = x, colour = \"red\", size = Freq))+ labs(x=\"Month\", y=\"Cancellation.Amount ($)\", title = \"Cancellation Amount and Freq by Month\")+\n",
    "  scale_x_discrete(limits=order) "
   ]
  },
  {
   "cell_type": "code",
   "execution_count": 30,
   "metadata": {},
   "outputs": [
    {
     "data": {},
     "metadata": {},
     "output_type": "display_data"
    },
    {
     "data": {
      "image/png": "[encoded data removed]",
      "text/plain": [
       "plot without title"
      ]
     },
     "metadata": {},
     "output_type": "display_data"
    }
   ],
   "source": [
    "cancel_country <- aggregate(c_data_filt$sale*-1, by = list(c_data_filt$Country1),sum)\n",
    "size_country <- data.frame(table(c_data_filt$Country1))\n",
    "cancel_country <- merge(cancel_country,size_country, by.x =\"Group.1\", by.y= \"Var1\")\n",
    "cancel_country <- cancel_country[order(-cancel_country$x),]\n",
    "\n",
    "ggplot(data = cancel_country[1:10,]) + \n",
    "  geom_point (mapping = aes(x = Group.1, y = x, colour = \"red\", size = Freq))+ \n",
    "  labs(x=\"Country\", y=\"Cancellation.Amount ($)\", title = \"Cancellation Amount and Freq by Country\")"
   ]
  },
  {
   "cell_type": "markdown",
   "metadata": {},
   "source": [
    "#### Dependence between quantity ordered and unit price per product"
   ]
  },
  {
   "cell_type": "code",
   "execution_count": 31,
   "metadata": {},
   "outputs": [
    {
     "data": {
      "image/png": "[encoded data removed]",
      "text/plain": [
       "plot without title"
      ]
     },
     "metadata": {},
     "output_type": "display_data"
    }
   ],
   "source": [
    "plot(data_filt$Quantity, data_filt$UnitPrice)"
   ]
  },
  {
   "cell_type": "markdown",
   "metadata": {},
   "source": [
    "### Leading products in the market"
   ]
  },
  {
   "cell_type": "code",
   "execution_count": 33,
   "metadata": {},
   "outputs": [],
   "source": [
    "prod_sale_freq <- as.data.frame(table(data_filt$StockCode))\n",
    "prod_sale <- aggregate(data_filt[,c(4,14)], by = list(data_filt$StockCode), sum)\n",
    "unitP <- aggregate(data_filt[,6], by = list(data_filt$StockCode), mean)\n",
    "write.csv(prod_sale,file = paste(dataPath,\"prod_sale.csv\", sep = \"/\"))\n",
    "write.csv(unitP,file = paste(dataPath,\"unitP.csv\", sep = \"/\"))"
   ]
  },
  {
   "cell_type": "markdown",
   "metadata": {},
   "source": [
    "### Traffic and sale by time of the day"
   ]
  },
  {
   "cell_type": "code",
   "execution_count": 34,
   "metadata": {},
   "outputs": [],
   "source": [
    "data_filt$hr_min <- hour(mdy_hm(data_filt$InvoiceDate))+ (minute(mdy_hm(data_filt$InvoiceDate))/60)\n",
    "\n",
    "time_split <- as.data.frame(table(data_filt$hr_min), rownames = TRUE)\n",
    "write.csv(time_split, paste(dataPath, \"time_split.csv\", sep = \"/\"))"
   ]
  },
  {
   "cell_type": "markdown",
   "metadata": {},
   "source": [
    "**Sales by time of the day**"
   ]
  },
  {
   "cell_type": "code",
   "execution_count": 49,
   "metadata": {},
   "outputs": [
    {
     "data": {
      "image/png": "[encoded data removed]",
      "text/plain": [
       "Plot with title \"Sales by time of the day\""
      ]
     },
     "metadata": {},
     "output_type": "display_data"
    }
   ],
   "source": [
    "plot(aggregate(data_filt$sale, by = list(data_filt$hr_min), sum), type = 'p', pch=16, col = \"green\", xlab = \"Time of the day\", ylab = \"Sale in $\", main = \"Sales by time of the day\")"
   ]
  },
  {
   "cell_type": "markdown",
   "metadata": {},
   "source": [
    "**Web traffic by time of the day**"
   ]
  },
  {
   "cell_type": "code",
   "execution_count": 51,
   "metadata": {},
   "outputs": [
    {
     "data": {
      "image/png": "[encoded data removed]",
      "text/plain": [
       "Plot with title \"Website traffic by time of the day\""
      ]
     },
     "metadata": {},
     "output_type": "display_data"
    }
   ],
   "source": [
    "plot(time_split, type = 'p', pch = 19, col = \"red\", xlab = \"Time of the day (hour)\", ylab = \"Number of transactions\", main = \"Website traffic by time of the day\")"
   ]
  },
  {
   "cell_type": "code",
   "execution_count": null,
   "metadata": {},
   "outputs": [],
   "source": []
  }
 ],
 "metadata": {
  "kernelspec": {
   "display_name": "R",
   "language": "R",
   "name": "ir"
  },
  "language_info": {
   "codemirror_mode": "r",
   "file_extension": ".r",
   "mimetype": "text/x-r-source",
   "name": "R",
   "pygments_lexer": "r",
   "version": "3.4.3"
  }
 },
 "nbformat": 4,
 "nbformat_minor": 2
}
